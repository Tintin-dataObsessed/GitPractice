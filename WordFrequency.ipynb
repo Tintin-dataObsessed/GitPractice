{
 "cells": [
  {
   "cell_type": "code",
   "execution_count": 23,
   "id": "e6aeefbb-85a1-4a2e-8017-f0eeb2f37d66",
   "metadata": {},
   "outputs": [
    {
     "name": "stdin",
     "output_type": "stream",
     "text": [
      "What is your sentence? fruits are many fruits\n"
     ]
    },
    {
     "name": "stdout",
     "output_type": "stream",
     "text": [
      "{'fruits': 2, 'are': 1, 'many': 1}\n"
     ]
    }
   ],
   "source": [
    "def function():\n",
    "    # This should store the split words inside the variable words.\n",
    "    words = input('What is your sentence?').split()  \n",
    "    word_frequencies = {}\n",
    "    #loops through and counts the frequency \n",
    "    for word in words:  \n",
    "        word_frequencies[word] = word_frequencies.get(word, 0) + 1\n",
    "    print(word_frequencies)\n",
    "\n",
    "if __name__ == \"__main__\":  # This checks whether the script is being run directly.\n",
    "    function()  \n",
    "\n"
   ]
  },
  {
   "cell_type": "code",
   "execution_count": null,
   "id": "7c84a225-373b-4f5f-a2f0-4a0d0d5d1da9",
   "metadata": {},
   "outputs": [],
   "source": []
  },
  {
   "cell_type": "code",
   "execution_count": null,
   "id": "6301bd38-1ea4-4246-bc38-c4c735285768",
   "metadata": {},
   "outputs": [],
   "source": []
  }
 ],
 "metadata": {
  "kernelspec": {
   "display_name": "Python 3 (ipykernel)",
   "language": "python",
   "name": "python3"
  },
  "language_info": {
   "codemirror_mode": {
    "name": "ipython",
    "version": 3
   },
   "file_extension": ".py",
   "mimetype": "text/x-python",
   "name": "python",
   "nbconvert_exporter": "python",
   "pygments_lexer": "ipython3",
   "version": "3.11.7"
  }
 },
 "nbformat": 4,
 "nbformat_minor": 5
}
