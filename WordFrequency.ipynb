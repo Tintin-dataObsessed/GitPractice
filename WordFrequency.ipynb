{
 "cells": [
  {
   "cell_type": "code",
   "execution_count": 22,
   "id": "e6aeefbb-85a1-4a2e-8017-f0eeb2f37d66",
   "metadata": {},
   "outputs": [
    {
     "name": "stdin",
     "output_type": "stream",
     "text": [
      "What is your sentence? fruits are many fruits\n"
     ]
    },
    {
     "name": "stdout",
     "output_type": "stream",
     "text": [
      "{'fruits': 2, 'are': 1, 'many': 1}\n"
     ]
    }
   ],
   "source": [
    "def function():\n",
    "    words = input('What is your sentence?').split()  # This should be 'words' instead of 'word' to store the split words\n",
    "    word_frequencies = {}\n",
    "    for word in words:  # 'words' is not defined; it should be 'word' or 'words' depending on the previous line\n",
    "        word_frequencies[word] = word_frequencies.get(word, 0) + 1\n",
    "    print(word_frequencies)\n",
    "\n",
    "if __name__ == \"__main__\":  # This should be '__name__' and '__main__' to check if the script is run directly\n",
    "    function()  # Indentation is incorrect; this line should be indented to be part of the if statement\n",
    "\n"
   ]
  },
  {
   "cell_type": "code",
   "execution_count": 21,
   "id": "7c84a225-373b-4f5f-a2f0-4a0d0d5d1da9",
   "metadata": {},
   "outputs": [
    {
     "name": "stdin",
     "output_type": "stream",
     "text": [
      "What is your sentence?  fruits are many fruits\n"
     ]
    },
    {
     "name": "stdout",
     "output_type": "stream",
     "text": [
      "{'fruits': 2, 'are': 1, 'many': 1}\n"
     ]
    }
   ],
   "source": [
    "def function():\n",
    "    sentence = input('What is your sentence? ')\n",
    "    words = sentence.split()  # Split the input sentence into words\n",
    "    word_frequencies = {}\n",
    "    \n",
    "    for word in words:\n",
    "        word_frequencies[word] = word_frequencies.get(word, 0) + 1  # Count the frequency of each word\n",
    "    \n",
    "    print(word_frequencies)\n",
    "\n",
    "if __name__ == \"__main__\":  # Corrected the condition to check if the script is being run directly\n",
    "    function()"
   ]
  },
  {
   "cell_type": "code",
   "execution_count": null,
   "id": "6301bd38-1ea4-4246-bc38-c4c735285768",
   "metadata": {},
   "outputs": [],
   "source": []
  }
 ],
 "metadata": {
  "kernelspec": {
   "display_name": "Python 3 (ipykernel)",
   "language": "python",
   "name": "python3"
  },
  "language_info": {
   "codemirror_mode": {
    "name": "ipython",
    "version": 3
   },
   "file_extension": ".py",
   "mimetype": "text/x-python",
   "name": "python",
   "nbconvert_exporter": "python",
   "pygments_lexer": "ipython3",
   "version": "3.11.7"
  }
 },
 "nbformat": 4,
 "nbformat_minor": 5
}
